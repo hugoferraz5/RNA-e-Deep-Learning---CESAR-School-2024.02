{
  "nbformat": 4,
  "nbformat_minor": 0,
  "metadata": {
    "colab": {
      "name": "Cópia de 3.4-LogisticRegressionMNIST-SGD.ipynb",
      "provenance": [],
      "gpuType": "V28"
    },
    "kernelspec": {
      "name": "python3",
      "display_name": "Python 3"
    },
    "accelerator": "TPU"
  },
  "cells": [
    {
      "cell_type": "markdown",
      "metadata": {
        "id": "gbTOc6cbl-eq"
      },
      "source": [
        "# Regressão Softmax com dados do MNIST utilizando gradiente descendente estocástico por minibatches"
      ]
    },
    {
      "cell_type": "markdown",
      "metadata": {
        "id": "C-IK0yRml-er"
      },
      "source": [
        "O objetivo deste notebook é ilustrar\n",
        "- o uso do gradiente estocástico por mini-batchs\n",
        "- utilizando as classes Dataset e DataLoater.\n",
        "\n",
        "A apresentação da perda nos gráficos é um pouco diferente da usual, mostrando a perda de cada um dos vários minibatches dentro de cada época, de forma que as épocas são apresentadas com valores fracionários."
      ]
    },
    {
      "cell_type": "markdown",
      "metadata": {
        "id": "mqqDXfr4l-et"
      },
      "source": [
        "## Importação das bibliotecas"
      ]
    },
    {
      "cell_type": "code",
      "metadata": {
        "id": "RVjLNfp3dDnm"
      },
      "source": [
        "# http://pytorch.org/\n",
        "import torch"
      ],
      "execution_count": 1,
      "outputs": []
    },
    {
      "cell_type": "code",
      "metadata": {
        "ExecuteTime": {
          "end_time": "2017-11-24T22:39:50.314578Z",
          "start_time": "2017-11-24T22:39:48.904460Z"
        },
        "id": "0Iry5pajl-eu"
      },
      "source": [
        "%matplotlib inline\n",
        "import numpy as np\n",
        "import matplotlib.pyplot as plt\n",
        "\n",
        "import torch\n",
        "from torch.autograd import Variable\n",
        "from torch.utils.data import DataLoader\n",
        "\n",
        "import torchvision\n",
        "from torchvision.datasets import MNIST"
      ],
      "execution_count": 2,
      "outputs": []
    },
    {
      "cell_type": "markdown",
      "metadata": {
        "id": "QqgILyIkl-ey"
      },
      "source": [
        "## Dataset e dataloader"
      ]
    },
    {
      "cell_type": "markdown",
      "metadata": {
        "id": "VAMBUN5ol-ez"
      },
      "source": [
        "### Definição do tamanho do minibatch"
      ]
    },
    {
      "cell_type": "code",
      "metadata": {
        "ExecuteTime": {
          "end_time": "2017-11-24T22:39:50.323379Z",
          "start_time": "2017-11-24T22:39:50.318024Z"
        },
        "id": "1YGmeZtbl-ez"
      },
      "source": [
        "batch_size = 1000"
      ],
      "execution_count": 3,
      "outputs": []
    },
    {
      "cell_type": "markdown",
      "metadata": {
        "id": "3uaaezsvl-e5"
      },
      "source": [
        "### Carregamento, criação dataset e do dataloader"
      ]
    },
    {
      "cell_type": "code",
      "metadata": {
        "id": "7cuFYxtrmT45",
        "colab": {
          "base_uri": "https://localhost:8080/"
        },
        "outputId": "bd2f2a64-352d-4c46-97c3-88f5d8354467"
      },
      "source": [
        "! git clone https://github.com/vcasadei/MNIST.git"
      ],
      "execution_count": 4,
      "outputs": [
        {
          "output_type": "stream",
          "name": "stdout",
          "text": [
            "Cloning into 'MNIST'...\n",
            "remote: Enumerating objects: 10, done.\u001b[K\n",
            "remote: Total 10 (delta 0), reused 0 (delta 0), pack-reused 10 (from 1)\u001b[K\n",
            "Receiving objects: 100% (10/10), 11.01 MiB | 18.01 MiB/s, done.\n",
            "Resolving deltas: 100% (2/2), done.\n"
          ]
        }
      ]
    },
    {
      "cell_type": "code",
      "metadata": {
        "ExecuteTime": {
          "end_time": "2017-11-24T22:39:50.400325Z",
          "start_time": "2017-11-24T22:39:50.326019Z"
        },
        "id": "TRXgajEXl-e6",
        "colab": {
          "base_uri": "https://localhost:8080/"
        },
        "outputId": "5743d979-ec7e-48ae-9a9b-e5c722060f55"
      },
      "source": [
        "dataset_dir = 'MNIST/'\n",
        "\n",
        "dataset_train = MNIST(dataset_dir, train=True, download=True,\n",
        "                      transform=torchvision.transforms.ToTensor())\n",
        "\n",
        "loader_train = DataLoader(dataset_train, batch_size=batch_size, shuffle=True)\n",
        "\n",
        "print('Número de minibatches de trenamento:', len(loader_train))\n",
        "\n",
        "x_train, y_train = next(iter(loader_train))\n",
        "print(\"\\nDimensões dos dados de um minibatch:\", x_train.size())\n",
        "print(\"Valores mínimo e máximo dos pixels: \", torch.min(x_train), torch.max(x_train))\n",
        "print(\"Tipo dos dados das imagens:         \", type(x_train))\n",
        "print(\"Tipo das classes das imagens:       \", type(y_train))"
      ],
      "execution_count": 5,
      "outputs": [
        {
          "output_type": "stream",
          "name": "stderr",
          "text": [
            "100%|██████████| 9.91M/9.91M [00:00<00:00, 42.0MB/s]\n",
            "100%|██████████| 28.9k/28.9k [00:00<00:00, 1.15MB/s]\n",
            "100%|██████████| 1.65M/1.65M [00:00<00:00, 10.8MB/s]\n",
            "100%|██████████| 4.54k/4.54k [00:00<00:00, 11.0MB/s]\n"
          ]
        },
        {
          "output_type": "stream",
          "name": "stdout",
          "text": [
            "Número de minibatches de trenamento: 60\n",
            "\n",
            "Dimensões dos dados de um minibatch: torch.Size([1000, 1, 28, 28])\n",
            "Valores mínimo e máximo dos pixels:  tensor(0.) tensor(1.)\n",
            "Tipo dos dados das imagens:          <class 'torch.Tensor'>\n",
            "Tipo das classes das imagens:        <class 'torch.Tensor'>\n"
          ]
        }
      ]
    },
    {
      "cell_type": "markdown",
      "metadata": {
        "id": "Jalws0jHl-fB"
      },
      "source": [
        "### Usando apenas 1000 amostras do MNIST\n",
        "\n",
        "Neste exemplo utilizaremos 1000 amostras de treinamento."
      ]
    },
    {
      "cell_type": "code",
      "metadata": {
        "ExecuteTime": {
          "end_time": "2017-11-24T22:39:50.414117Z",
          "start_time": "2017-11-24T22:39:50.402687Z"
        },
        "id": "TnFMMGDKl-fC",
        "colab": {
          "base_uri": "https://localhost:8080/"
        },
        "outputId": "46786b6b-bca9-40c3-ad68-c2c5320b7730"
      },
      "source": [
        "if False:\n",
        "    n_samples_train = 1000\n",
        "\n",
        "    dataset_train.train_data = dataset_train.train_data[:n_samples_train]\n",
        "    dataset_train.train_labels = dataset_train.train_labels[:n_samples_train]\n",
        "\n",
        "print('Número de minibatches de trenamento:', len(loader_train))\n",
        "n_batches_train = len(loader_train)\n",
        "total_samples = dataset_train.train_data.size(0)"
      ],
      "execution_count": 6,
      "outputs": [
        {
          "output_type": "stream",
          "name": "stdout",
          "text": [
            "Número de minibatches de trenamento: 60\n"
          ]
        },
        {
          "output_type": "stream",
          "name": "stderr",
          "text": [
            "/usr/local/lib/python3.11/dist-packages/torchvision/datasets/mnist.py:76: UserWarning: train_data has been renamed data\n",
            "  warnings.warn(\"train_data has been renamed data\")\n"
          ]
        }
      ]
    },
    {
      "cell_type": "markdown",
      "metadata": {
        "id": "dz6ke_hfl-fF"
      },
      "source": [
        "## Modelo"
      ]
    },
    {
      "cell_type": "code",
      "metadata": {
        "ExecuteTime": {
          "end_time": "2017-11-24T22:39:50.422994Z",
          "start_time": "2017-11-24T22:39:50.416568Z"
        },
        "id": "8iCWX43fl-fG"
      },
      "source": [
        "model = torch.nn.Linear(28*28, 10)\n"
      ],
      "execution_count": 7,
      "outputs": []
    },
    {
      "cell_type": "code",
      "metadata": {
        "id": "GrIFjo18dZ_L",
        "colab": {
          "base_uri": "https://localhost:8080/"
        },
        "outputId": "d0c4913a-33a4-43d4-ff66-77471a7dd364"
      },
      "source": [
        "x = torch.ones(28*28).reshape(1, 784)\n",
        "print(x.shape)\n",
        "predict = model(x)\n",
        "predict"
      ],
      "execution_count": 8,
      "outputs": [
        {
          "output_type": "stream",
          "name": "stdout",
          "text": [
            "torch.Size([1, 784])\n"
          ]
        },
        {
          "output_type": "execute_result",
          "data": {
            "text/plain": [
              "tensor([[-0.0720,  0.1015, -0.0624,  0.1322,  0.4660,  0.5765,  0.5826, -0.0718,\n",
              "          0.2802,  0.1964]], grad_fn=<AddmmBackward0>)"
            ]
          },
          "metadata": {},
          "execution_count": 8
        }
      ]
    },
    {
      "cell_type": "markdown",
      "metadata": {
        "id": "kVDFEZBql-fJ"
      },
      "source": [
        "## Treinamento"
      ]
    },
    {
      "cell_type": "markdown",
      "metadata": {
        "id": "OUAeuSK6l-fJ"
      },
      "source": [
        "### Inicialização dos parâmetros"
      ]
    },
    {
      "cell_type": "code",
      "metadata": {
        "ExecuteTime": {
          "end_time": "2017-11-24T22:39:50.433321Z",
          "start_time": "2017-11-24T22:39:50.426167Z"
        },
        "id": "XT5_fSiQl-fK"
      },
      "source": [
        "n_epochs = 50\n",
        "learningRate = 0.5\n",
        "\n",
        "# Utilizaremos CrossEntropyLoss como função de perda\n",
        "criterion = torch.nn.CrossEntropyLoss()\n",
        "\n",
        "# Gradiente descendente\n",
        "optimizer = torch.optim.SGD(model.parameters(), lr=learningRate)"
      ],
      "execution_count": 9,
      "outputs": []
    },
    {
      "cell_type": "markdown",
      "metadata": {
        "id": "-OM9OWI6l-fN"
      },
      "source": [
        "### Laço de treinamento dos parâmetros"
      ]
    },
    {
      "cell_type": "code",
      "metadata": {
        "ExecuteTime": {
          "end_time": "2017-11-24T22:39:50.984972Z",
          "start_time": "2017-11-24T22:39:50.435673Z"
        },
        "id": "JvNVUUFTl-fQ",
        "colab": {
          "base_uri": "https://localhost:8080/"
        },
        "outputId": "1a2e7ff6-1062-4033-94af-dfba15f28ab5"
      },
      "source": [
        "epochs = []\n",
        "losses = []\n",
        "\n",
        "total_trained_samples = 0\n",
        "for i in range(n_epochs):\n",
        "    for k,(x_train, y_train) in enumerate(loader_train):\n",
        "        # Transforma a entrada para uma dimensão\n",
        "        inputs = Variable(x_train.view(-1, 28 * 28))\n",
        "        # predict da rede\n",
        "        outputs = model(inputs)\n",
        "\n",
        "        # calcula a perda\n",
        "        loss = criterion(outputs, Variable(y_train))\n",
        "\n",
        "        # zero, backpropagation, ajusta parâmetros pelo gradiente descendente\n",
        "        optimizer.zero_grad()\n",
        "        loss.backward()\n",
        "        optimizer.step()\n",
        "\n",
        "        total_trained_samples += x_train.size(0)\n",
        "        epochs.append(total_trained_samples / total_samples)\n",
        "        losses.append(loss.data)\n",
        "        #print(k)\n",
        "    print(f'Época: {i}/{n_epochs-1} minibatch: {k}')#.format(i,n_epochs-1))#, end='\\r')\n"
      ],
      "execution_count": 10,
      "outputs": [
        {
          "output_type": "stream",
          "name": "stdout",
          "text": [
            "Época: 0/49 minibatch: 59\n",
            "Época: 1/49 minibatch: 59\n",
            "Época: 2/49 minibatch: 59\n",
            "Época: 3/49 minibatch: 59\n",
            "Época: 4/49 minibatch: 59\n",
            "Época: 5/49 minibatch: 59\n",
            "Época: 6/49 minibatch: 59\n",
            "Época: 7/49 minibatch: 59\n",
            "Época: 8/49 minibatch: 59\n",
            "Época: 9/49 minibatch: 59\n",
            "Época: 10/49 minibatch: 59\n",
            "Época: 11/49 minibatch: 59\n",
            "Época: 12/49 minibatch: 59\n",
            "Época: 13/49 minibatch: 59\n",
            "Época: 14/49 minibatch: 59\n",
            "Época: 15/49 minibatch: 59\n",
            "Época: 16/49 minibatch: 59\n",
            "Época: 17/49 minibatch: 59\n",
            "Época: 18/49 minibatch: 59\n",
            "Época: 19/49 minibatch: 59\n",
            "Época: 20/49 minibatch: 59\n",
            "Época: 21/49 minibatch: 59\n",
            "Época: 22/49 minibatch: 59\n",
            "Época: 23/49 minibatch: 59\n",
            "Época: 24/49 minibatch: 59\n",
            "Época: 25/49 minibatch: 59\n",
            "Época: 26/49 minibatch: 59\n",
            "Época: 27/49 minibatch: 59\n",
            "Época: 28/49 minibatch: 59\n",
            "Época: 29/49 minibatch: 59\n",
            "Época: 30/49 minibatch: 59\n",
            "Época: 31/49 minibatch: 59\n",
            "Época: 32/49 minibatch: 59\n",
            "Época: 33/49 minibatch: 59\n",
            "Época: 34/49 minibatch: 59\n",
            "Época: 35/49 minibatch: 59\n",
            "Época: 36/49 minibatch: 59\n",
            "Época: 37/49 minibatch: 59\n",
            "Época: 38/49 minibatch: 59\n",
            "Época: 39/49 minibatch: 59\n",
            "Época: 40/49 minibatch: 59\n",
            "Época: 41/49 minibatch: 59\n",
            "Época: 42/49 minibatch: 59\n",
            "Época: 43/49 minibatch: 59\n",
            "Época: 44/49 minibatch: 59\n",
            "Época: 45/49 minibatch: 59\n",
            "Época: 46/49 minibatch: 59\n",
            "Época: 47/49 minibatch: 59\n",
            "Época: 48/49 minibatch: 59\n",
            "Época: 49/49 minibatch: 59\n"
          ]
        }
      ]
    },
    {
      "cell_type": "code",
      "metadata": {
        "ExecuteTime": {
          "end_time": "2017-11-24T22:39:50.992302Z",
          "start_time": "2017-11-24T22:39:50.987284Z"
        },
        "id": "aYO4bgVwl-fT",
        "colab": {
          "base_uri": "https://localhost:8080/"
        },
        "outputId": "afb4eaf4-0b14-417e-f56f-1e9c74487f78"
      },
      "source": [
        "print('Final loss:', loss.data)"
      ],
      "execution_count": 11,
      "outputs": [
        {
          "output_type": "stream",
          "name": "stdout",
          "text": [
            "Final loss: tensor(0.2447)\n"
          ]
        }
      ]
    },
    {
      "cell_type": "markdown",
      "metadata": {
        "id": "XEhPdkjAl-fX"
      },
      "source": [
        "### Visualizando gráfico de perda durante o treinamento"
      ]
    },
    {
      "cell_type": "code",
      "metadata": {
        "ExecuteTime": {
          "end_time": "2017-11-24T22:39:51.244869Z",
          "start_time": "2017-11-24T22:39:50.995188Z"
        },
        "id": "_fSYP_KXl-fY",
        "colab": {
          "base_uri": "https://localhost:8080/",
          "height": 467
        },
        "outputId": "0623352a-f898-41c6-d6f0-606231fad21d"
      },
      "source": [
        "plt.plot(epochs, losses)\n",
        "plt.xlabel('época')"
      ],
      "execution_count": 12,
      "outputs": [
        {
          "output_type": "execute_result",
          "data": {
            "text/plain": [
              "Text(0.5, 0, 'época')"
            ]
          },
          "metadata": {},
          "execution_count": 12
        },
        {
          "output_type": "display_data",
          "data": {
            "text/plain": [
              "<Figure size 640x480 with 1 Axes>"
            ],
            "image/png": "[encoded data removed]"
          },
          "metadata": {}
        }
      ]
    },
    {
      "cell_type": "markdown",
      "metadata": {
        "id": "eNyGHxAtl-fc"
      },
      "source": [
        "### Visualização usual da perda, somente no final de cada minibatch"
      ]
    },
    {
      "cell_type": "code",
      "metadata": {
        "ExecuteTime": {
          "end_time": "2017-11-24T22:39:51.498640Z",
          "start_time": "2017-11-24T22:39:51.246714Z"
        },
        "id": "e2J2aZZVl-fd",
        "colab": {
          "base_uri": "https://localhost:8080/",
          "height": 467
        },
        "outputId": "2cc0b6dc-62b1-43e2-fd03-ca4983d13725"
      },
      "source": [
        "plt.plot(epochs[:5 * n_batches_train +1:n_batches_train], losses[:5 * n_batches_train+1:n_batches_train])\n",
        "plt.xlabel('época')"
      ],
      "execution_count": 13,
      "outputs": [
        {
          "output_type": "execute_result",
          "data": {
            "text/plain": [
              "Text(0.5, 0, 'época')"
            ]
          },
          "metadata": {},
          "execution_count": 13
        },
        {
          "output_type": "display_data",
          "data": {
            "text/plain": [
              "<Figure size 640x480 with 1 Axes>"
            ],
            "image/png": "[encoded data removed]"
          },
          "metadata": {}
        }
      ]
    },
    {
      "cell_type": "markdown",
      "metadata": {
        "id": "eHLCXNLml-fg"
      },
      "source": [
        "# Atividades"
      ]
    },
    {
      "cell_type": "markdown",
      "metadata": {
        "id": "ZCs38MOml-fh"
      },
      "source": [
        "## Perguntas"
      ]
    },
    {
      "cell_type": "markdown",
      "metadata": {
        "id": "Ffg58gb7l-fi"
      },
      "source": [
        "1. Qual é o tamanho do mini-batch?R.:100\n",
        "2. Em uma época, quantos mini-batches existem?R.:600\n",
        "3. Qual é a definição de época?R.:Uma passada completa por todo o conjunto de dados de treinamento."
      ]
    },
    {
      "cell_type": "markdown",
      "metadata": {
        "id": "DourBpfrl-fl"
      },
      "source": [
        "## Exercícios\n"
      ]
    },
    {
      "cell_type": "markdown",
      "metadata": {
        "id": "Vjh3AaNpl-fn"
      },
      "source": [
        "1. Coloque um print no final de cada minibatch, no mesmo estilo do print do final de época, no seguinte estilo:\n",
        "    - Época: 1/4, batch: 3/10\n",
        "2. Altere o tamanho de minibatch (batch_size) algumas vezes, refaça o treinamento, e compare no gráfico abaixo a queda da perda para cada tamanho de minibatch."
      ]
    },
    {
      "cell_type": "code",
      "source": [
        "# 1.\n",
        "n_epochs = 5\n",
        "learningRate = 0.5\n",
        "\n",
        "epochs = []\n",
        "losses = []\n",
        "\n",
        "total_trained_samples = 0\n",
        "for i in range(n_epochs):\n",
        "    for k,(x_train, y_train) in enumerate(loader_train):\n",
        "        # Transforma a entrada para uma dimensão\n",
        "        inputs = Variable(x_train.view(-1, 28 * 28))\n",
        "        # predict da rede\n",
        "        outputs = model(inputs)\n",
        "\n",
        "        # calcula a perda\n",
        "        loss = criterion(outputs, Variable(y_train))\n",
        "\n",
        "        # zero, backpropagation, ajusta parâmetros pelo gradiente descendente\n",
        "        optimizer.zero_grad()\n",
        "        loss.backward()\n",
        "        optimizer.step()\n",
        "\n",
        "        total_trained_samples += x_train.size(0)\n",
        "        epochs.append(total_trained_samples / total_samples)\n",
        "        losses.append(loss.data)\n",
        "\n",
        "        if k == len(loader_train) - 1:\n",
        "          print(f'Época: {i+1}/{n_epochs}, batch: {k+1}')"
      ],
      "metadata": {
        "id": "dycTIDUeEVui",
        "outputId": "7df4bd2f-9cc6-4527-ede4-f802a14bae96",
        "colab": {
          "base_uri": "https://localhost:8080/"
        }
      },
      "execution_count": 14,
      "outputs": [
        {
          "output_type": "stream",
          "name": "stdout",
          "text": [
            "Época: 1/5, batch: 60\n",
            "Época: 2/5, batch: 60\n",
            "Época: 3/5, batch: 60\n",
            "Época: 4/5, batch: 60\n",
            "Época: 5/5, batch: 60\n"
          ]
        }
      ]
    },
    {
      "cell_type": "code",
      "source": [
        "# 2.\n",
        "def train_model(batch_size):\n",
        "  dataset_dir = 'MNIST/'\n",
        "  dataset_train = MNIST(dataset_dir, train=True, download=True,\n",
        "                        transform=torchvision.transforms.ToTensor())\n",
        "\n",
        "  loader_train = DataLoader(dataset_train, batch_size=batch_size, shuffle=True)\n",
        "  print(f'Batch size: {batch_size}')\n",
        "  print('Número de minibatches de trenamento:', len(loader_train))\n",
        "  n_batches_train = len(loader_train)\n",
        "\n",
        "  model = torch.nn.Linear(28*28, 10)\n",
        "  n_epochs = 5\n",
        "  learningRate = 0.5\n",
        "\n",
        "  # Utilizaremos CrossEntropyLoss como função de perda\n",
        "  criterion = torch.nn.CrossEntropyLoss()\n",
        "\n",
        "  # Gradiente descendente\n",
        "  optimizer = torch.optim.SGD(model.parameters(), lr=learningRate)\n",
        "\n",
        "  epochs = []\n",
        "  losses = []\n",
        "\n",
        "  total_trained_samples = 0\n",
        "  for i in range(n_epochs):\n",
        "      for k,(x_train, y_train) in enumerate(loader_train):\n",
        "          # Transforma a entrada para uma dimensão\n",
        "          inputs = Variable(x_train.view(-1, 28 * 28))\n",
        "          # predict da rede\n",
        "          outputs = model(inputs)\n",
        "\n",
        "          # calcula a perda\n",
        "          loss = criterion(outputs, Variable(y_train))\n",
        "\n",
        "          # zero, backpropagation, ajusta parâmetros pelo gradiente descendente\n",
        "          optimizer.zero_grad()\n",
        "          loss.backward()\n",
        "          optimizer.step()\n",
        "\n",
        "          total_trained_samples += x_train.size(0)\n",
        "          epochs.append(total_trained_samples / total_samples)\n",
        "          losses.append(loss.data)\n",
        "\n",
        "          if k == len(loader_train) - 1:\n",
        "            # print(f'Época: {i+1}/{n_epochs}, batch: {k+1}')\n",
        "            print(f'Época: {i+1}/{n_epochs}, Batch: {k+1}, Loss: {loss.data:.6f}')\n",
        "\n",
        "  fig, axes = plt.subplots(1,2, figsize=(16,5))\n",
        "  axes[0].plot(epochs, losses)\n",
        "  axes[0].set_xlabel('Época')\n",
        "  axes[0].set_ylabel('Perda')\n",
        "  axes[0].set_title('Perda por época')\n",
        "\n",
        "  axes[1].plot(epochs[:5 * n_batches_train +1:n_batches_train], losses[:5 * n_batches_train+1:n_batches_train])\n",
        "  axes[1].set_xlabel('Mini-batch')\n",
        "  axes[1].set_ylabel('Perda')\n",
        "  axes[1].set_title('Perda por mini-batch')\n",
        "  plt.show()"
      ],
      "metadata": {
        "id": "t2cgUsPiHRfE"
      },
      "execution_count": 15,
      "outputs": []
    },
    {
      "cell_type": "code",
      "source": [
        "train_model(10)\n"
      ],
      "metadata": {
        "id": "Z_ETPixVHeZO",
        "outputId": "24289286-7b88-4576-bb96-75d099b106ff",
        "colab": {
          "base_uri": "https://localhost:8080/",
          "height": 612
        }
      },
      "execution_count": 16,
      "outputs": [
        {
          "output_type": "stream",
          "name": "stdout",
          "text": [
            "Batch size: 10\n",
            "Número de minibatches de trenamento: 6000\n",
            "Época: 1/5, Batch: 6000, Loss: 0.952914\n",
            "Época: 2/5, Batch: 6000, Loss: 0.335128\n",
            "Época: 3/5, Batch: 6000, Loss: 0.882384\n",
            "Época: 4/5, Batch: 6000, Loss: 1.967872\n",
            "Época: 5/5, Batch: 6000, Loss: 0.002538\n"
          ]
        },
        {
          "output_type": "display_data",
          "data": {
            "text/plain": [
              "<Figure size 1600x500 with 2 Axes>"
            ],
            "image/png": "[encoded data removed]"
          },
          "metadata": {}
        }
      ]
    },
    {
      "cell_type": "markdown",
      "metadata": {
        "id": "Dite8MBJl-fn"
      },
      "source": [
        "## Conclusões sobre os experimentos deste notebook\n"
      ]
    },
    {
      "cell_type": "markdown",
      "metadata": {
        "id": "tbMsRflll-fp"
      },
      "source": [
        "1. O mini-batch contribui com a rapidez da convergência, num mesmo número de épocas\n",
        "2. Os resultado pode ser mais ruidoso\n",
        "\n",
        "R.:Um batch_size maior reduz o número de minibatches por época e faz o erro convergir mais rápido e de forma mais estável, com menos oscilações durante o treinamento.\n"
      ]
    },
    {
      "cell_type": "code",
      "metadata": {
        "id": "FXn9N0Cal-fq"
      },
      "source": [],
      "execution_count": null,
      "outputs": []
    }
  ]
}