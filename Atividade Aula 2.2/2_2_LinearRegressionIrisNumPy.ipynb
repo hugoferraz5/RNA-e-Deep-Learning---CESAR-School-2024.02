{
 "cells": [
  {
   "cell_type": "markdown",
   "metadata": {
    "id": "5yQgzdjbf9RT"
   },
   "source": [
    "# Regressão Linear com NumPy"
   ]
  },
  {
   "cell_type": "markdown",
   "metadata": {
    "heading_collapsed": true,
    "id": "p5HfrYM3f9RU"
   },
   "source": [
    "## Objetivos deste experimento"
   ]
  },
  {
   "cell_type": "markdown",
   "metadata": {
    "hidden": true,
    "id": "IIYC2db7f9RW"
   },
   "source": [
    "Este exemplo utiliza regressão linear para estimar o comprimento das sépalas da íris a partir do seu comprimento das pétalas.\n",
    "Utiliza-se programação totalmente NumPy com:\n",
    "- o **cálculo do gradiente**,\n",
    "- a **função de perda** e\n",
    "- a atualização dos parâmetros são feitos de forma explícita.\n",
    "- A rede é criada com uma camada como uma classe"
   ]
  },
  {
   "cell_type": "markdown",
   "metadata": {
    "hidden": true,
    "id": "ImJOZIiNf9RW"
   },
   "source": [
    "![alt text](https://raw.githubusercontent.com/vcasadei/images/master/RegressaoLinear_Otimizacao.png)"
   ]
  },
  {
   "cell_type": "markdown",
   "metadata": {
    "heading_collapsed": true,
    "id": "EeTHWCuMf9RX"
   },
   "source": [
    "## Importação dos pacotes"
   ]
  },
  {
   "cell_type": "code",
   "execution_count": 1,
   "metadata": {
    "ExecuteTime": {
     "end_time": "2017-10-08T11:19:38.728936Z",
     "start_time": "2017-10-08T11:19:36.888541Z"
    },
    "hidden": true,
    "id": "5yPytaCLf9RY"
   },
   "outputs": [],
   "source": [
    "%matplotlib inline\n",
    "import matplotlib.pyplot as plt   # para plotting\n",
    "\n",
    "from sklearn.datasets import load_iris  # para carregar dataset\n",
    "\n",
    "import numpy as np  # processamento matricial\n",
    "\n",
    "np.random.seed(1234)"
   ]
  },
  {
   "cell_type": "markdown",
   "metadata": {
    "heading_collapsed": true,
    "id": "wDkSLSnmf9Rc"
   },
   "source": [
    "## Dataset"
   ]
  },
  {
   "cell_type": "markdown",
   "metadata": {
    "heading_collapsed": true,
    "hidden": true,
    "id": "ldcOnrBvf9Rd"
   },
   "source": [
    "### Leitura dos dados"
   ]
  },
  {
   "cell_type": "code",
   "execution_count": 2,
   "metadata": {
    "ExecuteTime": {
     "end_time": "2017-10-08T11:19:38.747769Z",
     "start_time": "2017-10-08T11:19:38.730907Z"
    },
    "colab": {
     "base_uri": "https://localhost:8080/"
    },
    "hidden": true,
    "id": "l3t1qaa0f9Re",
    "outputId": "31322784-2a13-4d37-a572-14f6be4a9b88"
   },
   "outputs": [
    {
     "name": "stdout",
     "output_type": "stream",
     "text": [
      "x_train.shape: (50, 1) float64\n",
      "y_train.shape: (50, 1) float64\n",
      "x_train[:5]:\n",
      " [[7. ]\n",
      " [6.4]\n",
      " [6.9]\n",
      " [5.5]\n",
      " [6.5]]\n",
      "y_train[:5]:\n",
      " [[4.7]\n",
      " [4.5]\n",
      " [4.9]\n",
      " [4. ]\n",
      " [4.6]]\n"
     ]
    }
   ],
   "source": [
    "iris = load_iris()\n",
    "data = iris.data[iris.target==1,::2]  # comprimento das sépalas e pétalas, indices 0 e 2\n",
    "\n",
    "x_train = data[:,0:1]\n",
    "y_train = data[:,1:2]\n",
    "\n",
    "n_samples = x_train.shape[0]\n",
    "print('x_train.shape:',x_train.shape, x_train.dtype)\n",
    "print('y_train.shape:',y_train.shape, y_train.dtype)\n",
    "\n",
    "print('x_train[:5]:\\n', x_train[:5])\n",
    "print('y_train[:5]:\\n', y_train[:5])"
   ]
  },
  {
   "cell_type": "markdown",
   "metadata": {
    "hidden": true,
    "id": "aPQ-L6FVf9Rk"
   },
   "source": [
    "### Normalização dos dados"
   ]
  },
  {
   "cell_type": "code",
   "execution_count": 3,
   "metadata": {
    "ExecuteTime": {
     "end_time": "2017-10-08T11:19:38.756343Z",
     "start_time": "2017-10-08T11:19:38.750395Z"
    },
    "hidden": true,
    "id": "POM323GEf9Rl"
   },
   "outputs": [],
   "source": [
    "x_train -= x_train.min()\n",
    "x_train /= x_train.max()\n",
    "y_train -= y_train.min()\n",
    "y_train /= y_train.max()"
   ]
  },
  {
   "cell_type": "code",
   "execution_count": 4,
   "metadata": {
    "ExecuteTime": {
     "end_time": "2017-10-08T11:19:39.127199Z",
     "start_time": "2017-10-08T11:19:38.759104Z"
    },
    "colab": {
     "base_uri": "https://localhost:8080/",
     "height": 466
    },
    "hidden": true,
    "id": "dx5AO9Qxf9Rn",
    "outputId": "58388365-bd4e-41f9-fef6-b6493b135ae7"
   },
   "outputs": [
    {
     "data": {
      "text/plain": [
       "Text(0, 0.5, 'Comprimento petalas')"
      ]
     },
     "execution_count": 4,
     "metadata": {},
     "output_type": "execute_result"
    },
    {
     "data": {
      "image/png": "[encoded data removed]",
      "text/plain": [
       "<Figure size 640x480 with 1 Axes>"
      ]
     },
     "metadata": {},
     "output_type": "display_data"
    }
   ],
   "source": [
    "plt.scatter(x_train,y_train)\n",
    "plt.xlabel('Comprimento sepalas')\n",
    "plt.ylabel('Comprimento petalas')"
   ]
  },
  {
   "cell_type": "markdown",
   "metadata": {
    "heading_collapsed": true,
    "id": "poW81teqf9Rr"
   },
   "source": [
    "## Modelo da rede"
   ]
  },
  {
   "cell_type": "markdown",
   "metadata": {
    "hidden": true,
    "id": "QXFLlJ0_f9Rt"
   },
   "source": [
    "### Reta de ajuste"
   ]
  },
  {
   "cell_type": "markdown",
   "metadata": {
    "hidden": true,
    "id": "s7JuPXysf9Rt"
   },
   "source": [
    "A equação da reta no plano necessita de dois parâmetros, aqui denominados $w_0$ (*bias*) e inclinação $w_1$. Veja figura:\n",
    "\n",
    "![alt text](https://raw.githubusercontent.com/vcasadei/images/master/linhareta.png)\n",
    "\n",
    "A reta de ajuste será dada por:\n",
    "\n",
    "$$ \\hat{y} = w_0 + w_1 x $$\n",
    "\n",
    "onde\n",
    "* $w_1$ é o coeficiente angular da reta e\n",
    "* $w_0$ é a interseção do eixo vertical quando x é igual a zero, também denominado de *bias*.\n",
    "* $x$ é a variável de entrada (comprimento das sépalas) e\n",
    "* $\\hat{y}$ é a predição (comprimento estimado das pétalas)."
   ]
  },
  {
   "cell_type": "markdown",
   "metadata": {
    "hidden": true,
    "id": "hwin_xPff9Ru"
   },
   "source": [
    "### Linear Regression Model"
   ]
  },
  {
   "cell_type": "markdown",
   "metadata": {
    "hidden": true,
    "id": "c7ilOLnkf9Rw"
   },
   "source": [
    "![alt text](https://raw.githubusercontent.com/vcasadei/images/master/RegressaoLinearNeuronio.png)"
   ]
  },
  {
   "cell_type": "markdown",
   "metadata": {
    "hidden": true,
    "id": "H0CzMB91f9Rx"
   },
   "source": [
    "### Formulação matricial do neurônio"
   ]
  },
  {
   "cell_type": "markdown",
   "metadata": {
    "hidden": true,
    "id": "-wWz_wpYf9Ry"
   },
   "source": [
    "* $\\mathbf{w} = [w_0 \\ w_1]$ é vetor linha de parâmetros e\n",
    "* $\\mathbf{x} = [1 \\ x_0] $ é vetor linha de uma amostra (com *bias*).\n",
    "\n",
    "$$ \\hat{y} = 1 w_0 + x_0 w_1 $$\n",
    "\n",
    "$$ [\\hat{y}] = [1 \\ x_0] \\begin{bmatrix} w_0 \\\\ w_1 \\end{bmatrix} $$\n",
    "\n",
    "$$ \\mathbf{\\hat{y}} = \\mathbf{x} \\mathbf{w^T} $$"
   ]
  },
  {
   "cell_type": "markdown",
   "metadata": {
    "hidden": true,
    "id": "rQ1lc-dYf9Rz"
   },
   "source": [
    "### Fazendo o predict de várias amostras"
   ]
  },
  {
   "cell_type": "markdown",
   "metadata": {
    "hidden": true,
    "id": "fh068Clrf9R0"
   },
   "source": [
    "$$ \\begin{matrix}\n",
    "\\begin{bmatrix}\n",
    "\\hat{y}_0\\\\\n",
    "\\hat{y}_1\\\\\n",
    "\\\\\n",
    "\\hat{y}_{M-1}\n",
    "\\end{bmatrix} &=& \\begin{bmatrix}\n",
    "1 & x_0 \\\\\n",
    "1 & x_1\\\\\n",
    "\\\\\n",
    "1 & x_{M-1} \\\\\n",
    "\\end{bmatrix}\n",
    "&\n",
    "\\begin{bmatrix}\n",
    "w_0\\\\\n",
    "w_1\n",
    "\\end{bmatrix} \\\\\n",
    "(M,1) & & (M,2) & (2,1) \\\\\n",
    "\\end{matrix} $$"
   ]
  },
  {
   "cell_type": "markdown",
   "metadata": {
    "hidden": true,
    "id": "jjSchAsZf9R2"
   },
   "source": [
    "### Preenchendo x com coluna de 1's para bias"
   ]
  },
  {
   "cell_type": "code",
   "execution_count": 5,
   "metadata": {
    "ExecuteTime": {
     "end_time": "2017-10-08T11:19:39.135089Z",
     "start_time": "2017-10-08T11:19:39.129385Z"
    },
    "hidden": true,
    "id": "plZEY5-tf9R2"
   },
   "outputs": [],
   "source": [
    "x_train_bias = np.hstack([np.ones(shape=(n_samples,1)), x_train])"
   ]
  },
  {
   "cell_type": "code",
   "execution_count": 43,
   "metadata": {
    "colab": {
     "base_uri": "https://localhost:8080/"
    },
    "id": "tXYx3JdMf9R6",
    "outputId": "17d5a657-40de-4ff8-de63-49951473dd95"
   },
   "outputs": [
    {
     "data": {
      "text/plain": [
       "array([[1.        , 1.        ],\n",
       "       [1.        , 0.71428571],\n",
       "       [1.        , 0.95238095],\n",
       "       [1.        , 0.28571429],\n",
       "       [1.        , 0.76190476],\n",
       "       [1.        , 0.38095238],\n",
       "       [1.        , 0.66666667],\n",
       "       [1.        , 0.        ],\n",
       "       [1.        , 0.80952381],\n",
       "       [1.        , 0.14285714],\n",
       "       [1.        , 0.04761905],\n",
       "       [1.        , 0.47619048],\n",
       "       [1.        , 0.52380952],\n",
       "       [1.        , 0.57142857],\n",
       "       [1.        , 0.33333333],\n",
       "       [1.        , 0.85714286],\n",
       "       [1.        , 0.33333333],\n",
       "       [1.        , 0.42857143],\n",
       "       [1.        , 0.61904762],\n",
       "       [1.        , 0.33333333],\n",
       "       [1.        , 0.47619048],\n",
       "       [1.        , 0.57142857],\n",
       "       [1.        , 0.66666667],\n",
       "       [1.        , 0.57142857],\n",
       "       [1.        , 0.71428571],\n",
       "       [1.        , 0.80952381],\n",
       "       [1.        , 0.9047619 ],\n",
       "       [1.        , 0.85714286],\n",
       "       [1.        , 0.52380952],\n",
       "       [1.        , 0.38095238],\n",
       "       [1.        , 0.28571429],\n",
       "       [1.        , 0.28571429],\n",
       "       [1.        , 0.42857143],\n",
       "       [1.        , 0.52380952],\n",
       "       [1.        , 0.23809524],\n",
       "       [1.        , 0.52380952],\n",
       "       [1.        , 0.85714286],\n",
       "       [1.        , 0.66666667],\n",
       "       [1.        , 0.33333333],\n",
       "       [1.        , 0.28571429],\n",
       "       [1.        , 0.28571429],\n",
       "       [1.        , 0.57142857],\n",
       "       [1.        , 0.42857143],\n",
       "       [1.        , 0.04761905],\n",
       "       [1.        , 0.33333333],\n",
       "       [1.        , 0.38095238],\n",
       "       [1.        , 0.38095238],\n",
       "       [1.        , 0.61904762],\n",
       "       [1.        , 0.0952381 ],\n",
       "       [1.        , 0.38095238]])"
      ]
     },
     "execution_count": 43,
     "metadata": {},
     "output_type": "execute_result"
    }
   ],
   "source": [
    "x_train_bias"
   ]
  },
  {
   "cell_type": "markdown",
   "metadata": {
    "hidden": true,
    "id": "GOtS_8OSf9SC"
   },
   "source": [
    "### Classe com o modelo da rede"
   ]
  },
  {
   "cell_type": "code",
   "execution_count": 42,
   "metadata": {
    "ExecuteTime": {
     "end_time": "2017-10-08T11:19:39.143879Z",
     "start_time": "2017-10-08T11:19:39.137134Z"
    },
    "hidden": true,
    "id": "aKLVIQUtf9SD"
   },
   "outputs": [],
   "source": [
    "class Net():\n",
    "    def __init__(self, n_in, n_out):\n",
    "        self.w = np.random.uniform(-0.1,0.1,(n_out,n_in)) #inicialização dos parâmetros\n",
    "        # self.w = [0,0]\n",
    "#         self.w = np.zeros(shape=(n_out,n_in))\n",
    "\n",
    "    def forward(self, x_bias):  # calcular o ŷ\n",
    "        return x_bias.dot(self.w.T)"
   ]
  },
  {
   "cell_type": "markdown",
   "metadata": {
    "hidden": true,
    "id": "0j0hN9l_f9SH"
   },
   "source": [
    "### Criando a rede, instanciando o objeto model"
   ]
  },
  {
   "cell_type": "code",
   "execution_count": 26,
   "metadata": {
    "ExecuteTime": {
     "end_time": "2017-10-08T11:19:39.151717Z",
     "start_time": "2017-10-08T11:19:39.146858Z"
    },
    "hidden": true,
    "id": "5o5Zkqn5f9SI"
   },
   "outputs": [],
   "source": [
    "model = Net(2,1) # duas entradas (1 + x0) e uma saída y_pred"
   ]
  },
  {
   "cell_type": "code",
   "execution_count": 27,
   "metadata": {
    "colab": {
     "base_uri": "https://localhost:8080/"
    },
    "id": "QPeFgPGIEpFu",
    "outputId": "1b73548b-5d8e-4f47-a73b-16f0e6033cc2"
   },
   "outputs": [
    {
     "data": {
      "text/plain": [
       "array([[0.08662802, 0.03027563]])"
      ]
     },
     "execution_count": 27,
     "metadata": {},
     "output_type": "execute_result"
    }
   ],
   "source": [
    "model.w"
   ]
  },
  {
   "cell_type": "markdown",
   "metadata": {
    "hidden": true,
    "id": "F3yolUOGf9SL"
   },
   "source": [
    "### Testando o predict da rede (mesmo sem treiná-la)"
   ]
  },
  {
   "cell_type": "code",
   "execution_count": 28,
   "metadata": {
    "ExecuteTime": {
     "end_time": "2017-10-08T11:19:39.162189Z",
     "start_time": "2017-10-08T11:19:39.156018Z"
    },
    "colab": {
     "base_uri": "https://localhost:8080/"
    },
    "hidden": true,
    "id": "BzkEurfof9SN",
    "outputId": "9f76fde5-ea98-4675-cf7b-5a3e70d8a182"
   },
   "outputs": [
    {
     "data": {
      "text/plain": [
       "array([[ 0.09998035],\n",
       "       [ 0.00351027],\n",
       "       [ 0.01619863],\n",
       "       [-0.02424797]])"
      ]
     },
     "execution_count": 28,
     "metadata": {},
     "output_type": "execute_result"
    }
   ],
   "source": [
    "xin = np.random.randn(4,2) # 4 amostras, 2 entradas (1 + x0)\n",
    "ypred = model.forward(xin)\n",
    "ypred"
   ]
  },
  {
   "cell_type": "code",
   "execution_count": 29,
   "metadata": {
    "colab": {
     "base_uri": "https://localhost:8080/"
    },
    "id": "bU2TPhh3AItI",
    "outputId": "554ab996-a2dd-469d-e5c2-03b5e4243ca8"
   },
   "outputs": [
    {
     "data": {
      "text/plain": [
       "array([[0.11690365],\n",
       "       [0.10825347],\n",
       "       [0.11546195],\n",
       "       [0.0952782 ],\n",
       "       [0.10969517],\n",
       "       [0.09816159],\n",
       "       [0.10681177],\n",
       "       [0.08662802],\n",
       "       [0.11113686],\n",
       "       [0.09095311],\n",
       "       [0.08806972],\n",
       "       [0.10104499],\n",
       "       [0.10248668],\n",
       "       [0.10392838],\n",
       "       [0.0967199 ],\n",
       "       [0.11257856],\n",
       "       [0.0967199 ],\n",
       "       [0.09960329],\n",
       "       [0.10537008],\n",
       "       [0.0967199 ],\n",
       "       [0.10104499],\n",
       "       [0.10392838],\n",
       "       [0.10681177],\n",
       "       [0.10392838],\n",
       "       [0.10825347],\n",
       "       [0.11113686],\n",
       "       [0.11402026],\n",
       "       [0.11257856],\n",
       "       [0.10248668],\n",
       "       [0.09816159],\n",
       "       [0.0952782 ],\n",
       "       [0.0952782 ],\n",
       "       [0.09960329],\n",
       "       [0.10248668],\n",
       "       [0.0938365 ],\n",
       "       [0.10248668],\n",
       "       [0.11257856],\n",
       "       [0.10681177],\n",
       "       [0.0967199 ],\n",
       "       [0.0952782 ],\n",
       "       [0.0952782 ],\n",
       "       [0.10392838],\n",
       "       [0.09960329],\n",
       "       [0.08806972],\n",
       "       [0.0967199 ],\n",
       "       [0.09816159],\n",
       "       [0.09816159],\n",
       "       [0.10537008],\n",
       "       [0.08951141],\n",
       "       [0.09816159]])"
      ]
     },
     "execution_count": 29,
     "metadata": {},
     "output_type": "execute_result"
    }
   ],
   "source": [
    "ypred = model.forward(x_train_bias)\n",
    "ypred"
   ]
  },
  {
   "cell_type": "markdown",
   "metadata": {
    "heading_collapsed": true,
    "id": "edoSiy--f9SS"
   },
   "source": [
    "## Treinamento via gradiente descendente"
   ]
  },
  {
   "cell_type": "markdown",
   "metadata": {
    "hidden": true,
    "id": "SnkXXFref9ST"
   },
   "source": [
    "Função de perda:\n",
    "$$ J(\\hat{y_i},y_i) = \\frac{1}{M} \\sum_{i=0}^{M-1} (\\hat{y_i} - y_i)^2 $$"
   ]
  },
  {
   "cell_type": "markdown",
   "metadata": {
    "ExecuteTime": {
     "end_time": "2017-10-05T14:05:06.244776",
     "start_time": "2017-10-05T14:05:06.240743"
    },
    "hidden": true,
    "id": "6W5QcPwUf9SU"
   },
   "source": [
    "Gradiente:\n",
    "$$  \\mathbf{\\nabla{J_w}} = \\frac{2}{M}\\mathbf{x^T}(\\mathbf{x w^T} - \\mathbf{y}) $$"
   ]
  },
  {
   "cell_type": "markdown",
   "metadata": {
    "ExecuteTime": {
     "end_time": "2017-10-05T14:06:17.929718",
     "start_time": "2017-10-05T14:06:17.925519"
    },
    "hidden": true,
    "id": "6OoQuuvAf9SU"
   },
   "source": [
    "Atualização dos parâmetros pelo gradiente descendente:\n",
    "$$ \\mathbf{w} = \\mathbf{w} − \\eta (\\mathbf{\\nabla J_w})^T $$"
   ]
  },
  {
   "cell_type": "markdown",
   "metadata": {
    "hidden": true,
    "id": "YM0fEnAdf9SW"
   },
   "source": [
    "### Laço de treinamento"
   ]
  },
  {
   "cell_type": "code",
   "execution_count": 29,
   "metadata": {
    "ExecuteTime": {
     "end_time": "2017-10-08T11:19:39.183784Z",
     "start_time": "2017-10-08T11:19:39.165347Z"
    },
    "colab": {
     "base_uri": "https://localhost:8080/"
    },
    "hidden": true,
    "id": "BiCGgqp6f9SX",
    "outputId": "2cfed562-6d73-4e63-b19a-a02a665c4388",
    "scrolled": false
   },
   "outputs": [
    {
     "name": "stdout",
     "output_type": "stream",
     "text": [
      "Epoch[1/100], loss: 0.021169\n",
      "Epoch[2/100], loss: 0.021169\n",
      "Epoch[3/100], loss: 0.021169\n",
      "Epoch[4/100], loss: 0.021169\n",
      "Epoch[5/100], loss: 0.021169\n",
      "Epoch[6/100], loss: 0.021169\n",
      "Epoch[7/100], loss: 0.021169\n",
      "Epoch[8/100], loss: 0.021169\n",
      "Epoch[9/100], loss: 0.021169\n",
      "Epoch[10/100], loss: 0.021169\n",
      "Epoch[11/100], loss: 0.021169\n",
      "Epoch[12/100], loss: 0.021169\n",
      "Epoch[13/100], loss: 0.021169\n",
      "Epoch[14/100], loss: 0.021169\n",
      "Epoch[15/100], loss: 0.021169\n",
      "Epoch[16/100], loss: 0.021169\n",
      "Epoch[17/100], loss: 0.021169\n",
      "Epoch[18/100], loss: 0.021169\n",
      "Epoch[19/100], loss: 0.021169\n",
      "Epoch[20/100], loss: 0.021169\n",
      "Epoch[21/100], loss: 0.021169\n",
      "Epoch[22/100], loss: 0.021169\n",
      "Epoch[23/100], loss: 0.021169\n",
      "Epoch[24/100], loss: 0.021169\n",
      "Epoch[25/100], loss: 0.021169\n",
      "Epoch[26/100], loss: 0.021169\n",
      "Epoch[27/100], loss: 0.021169\n",
      "Epoch[28/100], loss: 0.021169\n",
      "Epoch[29/100], loss: 0.021169\n",
      "Epoch[30/100], loss: 0.021169\n",
      "Epoch[31/100], loss: 0.021169\n",
      "Epoch[32/100], loss: 0.021169\n",
      "Epoch[33/100], loss: 0.021169\n",
      "Epoch[34/100], loss: 0.021169\n",
      "Epoch[35/100], loss: 0.021169\n",
      "Epoch[36/100], loss: 0.021169\n",
      "Epoch[37/100], loss: 0.021169\n",
      "Epoch[38/100], loss: 0.021169\n",
      "Epoch[39/100], loss: 0.021169\n",
      "Epoch[40/100], loss: 0.021169\n",
      "Epoch[41/100], loss: 0.021169\n",
      "Epoch[42/100], loss: 0.021169\n",
      "Epoch[43/100], loss: 0.021169\n",
      "Epoch[44/100], loss: 0.021169\n",
      "Epoch[45/100], loss: 0.021169\n",
      "Epoch[46/100], loss: 0.021169\n",
      "Epoch[47/100], loss: 0.021169\n",
      "Epoch[48/100], loss: 0.021169\n",
      "Epoch[49/100], loss: 0.021169\n",
      "Epoch[50/100], loss: 0.021169\n",
      "Epoch[51/100], loss: 0.021169\n",
      "Epoch[52/100], loss: 0.021169\n",
      "Epoch[53/100], loss: 0.021169\n",
      "Epoch[54/100], loss: 0.021169\n",
      "Epoch[55/100], loss: 0.021169\n",
      "Epoch[56/100], loss: 0.021169\n",
      "Epoch[57/100], loss: 0.021169\n",
      "Epoch[58/100], loss: 0.021169\n",
      "Epoch[59/100], loss: 0.021169\n",
      "Epoch[60/100], loss: 0.021169\n",
      "Epoch[61/100], loss: 0.021169\n",
      "Epoch[62/100], loss: 0.021169\n",
      "Epoch[63/100], loss: 0.021169\n",
      "Epoch[64/100], loss: 0.021169\n",
      "Epoch[65/100], loss: 0.021169\n",
      "Epoch[66/100], loss: 0.021169\n",
      "Epoch[67/100], loss: 0.021169\n",
      "Epoch[68/100], loss: 0.021169\n",
      "Epoch[69/100], loss: 0.021169\n",
      "Epoch[70/100], loss: 0.021169\n",
      "Epoch[71/100], loss: 0.021169\n",
      "Epoch[72/100], loss: 0.021169\n",
      "Epoch[73/100], loss: 0.021169\n",
      "Epoch[74/100], loss: 0.021169\n",
      "Epoch[75/100], loss: 0.021169\n",
      "Epoch[76/100], loss: 0.021169\n",
      "Epoch[77/100], loss: 0.021169\n",
      "Epoch[78/100], loss: 0.021169\n",
      "Epoch[79/100], loss: 0.021169\n",
      "Epoch[80/100], loss: 0.021169\n",
      "Epoch[81/100], loss: 0.021169\n",
      "Epoch[82/100], loss: 0.021169\n",
      "Epoch[83/100], loss: 0.021169\n",
      "Epoch[84/100], loss: 0.021169\n",
      "Epoch[85/100], loss: 0.021169\n",
      "Epoch[86/100], loss: 0.021169\n",
      "Epoch[87/100], loss: 0.021169\n",
      "Epoch[88/100], loss: 0.021169\n",
      "Epoch[89/100], loss: 0.021169\n",
      "Epoch[90/100], loss: 0.021169\n",
      "Epoch[91/100], loss: 0.021169\n",
      "Epoch[92/100], loss: 0.021169\n",
      "Epoch[93/100], loss: 0.021169\n",
      "Epoch[94/100], loss: 0.021169\n",
      "Epoch[95/100], loss: 0.021169\n",
      "Epoch[96/100], loss: 0.021169\n",
      "Epoch[97/100], loss: 0.021169\n",
      "Epoch[98/100], loss: 0.021169\n",
      "Epoch[99/100], loss: 0.021169\n",
      "Epoch[100/100], loss: 0.021169\n",
      "[np.float64(0.021169424164887825), np.float64(0.021169424160670594), np.float64(0.021169424156841754), np.float64(0.021169424153365552), np.float64(0.02116942415020949), np.float64(0.0211694241473441), np.float64(0.021169424144742613), np.float64(0.021169424142380714), np.float64(0.02116942414023635), np.float64(0.021169424138289455), np.float64(0.021169424136521883), np.float64(0.0211694241349171), np.float64(0.021169424133460114), np.float64(0.02116942413213731), np.float64(0.021169424130936344), np.float64(0.02116942412984597), np.float64(0.02116942412885603), np.float64(0.02116942412795725), np.float64(0.021169424127141255), np.float64(0.02116942412640041), np.float64(0.02116942412572779), np.float64(0.02116942412511712), np.float64(0.0211694241245627), np.float64(0.021169424124059328), np.float64(0.021169424123602325), np.float64(0.021169424123187407), np.float64(0.021169424122810705), np.float64(0.021169424122468694), np.float64(0.021169424122158182), np.float64(0.021169424121876265), np.float64(0.02116942412162032), np.float64(0.021169424121387937), np.float64(0.021169424121176963), np.float64(0.021169424120985415), np.float64(0.02116942412081151), np.float64(0.021169424120653618), np.float64(0.021169424120510275), np.float64(0.021169424120380125), np.float64(0.021169424120261973), np.float64(0.021169424120154698), np.float64(0.0211694241200573), np.float64(0.02116942411996887), np.float64(0.021169424119888584), np.float64(0.021169424119815695), np.float64(0.021169424119749522), np.float64(0.02116942411968944), np.float64(0.02116942411963489), np.float64(0.02116942411958537), np.float64(0.021169424119540405), np.float64(0.021169424119499583), np.float64(0.021169424119462522), np.float64(0.02116942411942887), np.float64(0.021169424119398327), np.float64(0.021169424119370586), np.float64(0.021169424119345404), np.float64(0.02116942411932254), np.float64(0.021169424119301783), np.float64(0.021169424119282937), np.float64(0.02116942411926583), np.float64(0.021169424119250296), np.float64(0.02116942411923619), np.float64(0.021169424119223387), np.float64(0.02116942411921176), np.float64(0.021169424119201214), np.float64(0.021169424119191628), np.float64(0.021169424119182923), np.float64(0.021169424119175027), np.float64(0.02116942411916786), np.float64(0.02116942411916134), np.float64(0.021169424119155435), np.float64(0.02116942411915006), np.float64(0.021169424119145193), np.float64(0.02116942411914077), np.float64(0.021169424119136755), np.float64(0.021169424119133105), np.float64(0.021169424119129795), np.float64(0.021169424119126784), np.float64(0.021169424119124064), np.float64(0.02116942411912158), np.float64(0.02116942411911933), np.float64(0.02116942411911729), np.float64(0.02116942411911544), np.float64(0.021169424119113756), np.float64(0.021169424119112226), np.float64(0.021169424119110842), np.float64(0.021169424119109576), np.float64(0.021169424119108434), np.float64(0.021169424119107397), np.float64(0.021169424119106453), np.float64(0.021169424119105596), np.float64(0.02116942411910482), np.float64(0.021169424119104115), np.float64(0.021169424119103476), np.float64(0.021169424119102897), np.float64(0.02116942411910236), np.float64(0.021169424119101884), np.float64(0.02116942411910145), np.float64(0.021169424119101058), np.float64(0.021169424119100694), np.float64(0.02116942411910037)]\n"
     ]
    }
   ],
   "source": [
    "num_epochs = 100\n",
    "learning_rate = 0.5\n",
    "for epoch in range(num_epochs):\n",
    "\n",
    "    # forward - predict\n",
    "    y_pred = model.forward(x_train_bias)\n",
    "\n",
    "    #loss cálculo da função de perda\n",
    "    loss = np.square(y_pred - y_train).mean()\n",
    "\n",
    "    # cálculo do gradiente pelas derivadas parciais\n",
    "    w_grad = (2.0/n_samples) * (x_train_bias.T).dot(x_train_bias.dot(model.w.T) - y_train)\n",
    "\n",
    "    # gradiente descendente\n",
    "    model.w = model.w - learning_rate * w_grad.T\n",
    "\n",
    "    # verbose\n",
    "    if (epoch+1) % 1 == 0:\n",
    "        print('Epoch[{}/{}], loss: {:.6f}'\n",
    "              .format(epoch+1, num_epochs, loss))"
   ]
  },
  {
   "cell_type": "markdown",
   "metadata": {
    "heading_collapsed": true,
    "id": "1QGlDZABf9Sd"
   },
   "source": [
    "## Avaliação"
   ]
  },
  {
   "cell_type": "markdown",
   "metadata": {
    "hidden": true,
    "id": "6TIimlCmf9Si"
   },
   "source": [
    "### Predict"
   ]
  },
  {
   "cell_type": "code",
   "execution_count": null,
   "metadata": {
    "ExecuteTime": {
     "end_time": "2017-10-08T11:19:39.408412Z",
     "start_time": "2017-10-08T11:19:39.186021Z"
    },
    "colab": {
     "base_uri": "https://localhost:8080/",
     "height": 447
    },
    "hidden": true,
    "id": "ToXwbrlsf9Sk",
    "outputId": "292cbac9-1302-417b-d950-bc19f5093085"
   },
   "outputs": [
    {
     "data": {
      "text/plain": [
       "[<matplotlib.lines.Line2D at 0x7dba23ece2f0>]"
      ]
     },
     "execution_count": 12,
     "metadata": {},
     "output_type": "execute_result"
    },
    {
     "data": {
      "image/png": "[encoded data removed]",
      "text/plain": [
       "<Figure size 640x480 with 1 Axes>"
      ]
     },
     "metadata": {},
     "output_type": "display_data"
    }
   ],
   "source": [
    "y_pred = model.forward(x_train_bias)\n",
    "plt.plot(x_train, y_train, 'ro', label='Original data')\n",
    "plt.plot(x_train, y_pred, 'kx-', label='Fitting Line')"
   ]
  },
  {
   "cell_type": "markdown",
   "metadata": {
    "hidden": true,
    "id": "kQ1hGdItf9So"
   },
   "source": [
    "### Parâmetros treinados"
   ]
  },
  {
   "cell_type": "code",
   "execution_count": null,
   "metadata": {
    "ExecuteTime": {
     "end_time": "2017-10-08T11:19:39.417569Z",
     "start_time": "2017-10-08T11:19:39.411060Z"
    },
    "colab": {
     "base_uri": "https://localhost:8080/"
    },
    "hidden": true,
    "id": "IcEOxTg9f9Sp",
    "outputId": "9ad68af2-a35d-4d5c-83a5-05999232e7c2"
   },
   "outputs": [
    {
     "name": "stdout",
     "output_type": "stream",
     "text": [
      "[[0.26293022 0.68340143]]\n"
     ]
    }
   ],
   "source": [
    "print(model.w)"
   ]
  },
  {
   "cell_type": "markdown",
   "metadata": {
    "hidden": true,
    "id": "73n0qSOMf9Sr"
   },
   "source": [
    "### Avaliação do modelo"
   ]
  },
  {
   "cell_type": "code",
   "execution_count": null,
   "metadata": {
    "colab": {
     "base_uri": "https://localhost:8080/"
    },
    "hidden": true,
    "id": "dI2TE8W6f9Ss",
    "outputId": "743b7c4c-e361-4c1d-ec67-bb35eb1cdc43"
   },
   "outputs": [
    {
     "data": {
      "text/plain": [
       "0.02116998714788002"
      ]
     },
     "execution_count": 14,
     "metadata": {},
     "output_type": "execute_result"
    }
   ],
   "source": [
    "loss = np.square(y_pred - y_train).mean()\n",
    "loss"
   ]
  },
  {
   "cell_type": "markdown",
   "metadata": {
    "hidden": true,
    "id": "cv6q3ElSf9Sv"
   },
   "source": [
    "### Valor ótimo, solução analítica"
   ]
  },
  {
   "cell_type": "markdown",
   "metadata": {
    "hidden": true,
    "id": "qYgHOaNmf9Sv"
   },
   "source": [
    "$$  \\mathbf{w} =(\\mathbf{x^T} \\mathbf{x})^{−1}\\mathbf{x^T} \\mathbf{y} $$"
   ]
  },
  {
   "cell_type": "code",
   "execution_count": null,
   "metadata": {
    "ExecuteTime": {
     "end_time": "2017-10-08T11:19:39.432480Z",
     "start_time": "2017-10-08T11:19:39.420006Z"
    },
    "colab": {
     "base_uri": "https://localhost:8080/"
    },
    "hidden": true,
    "id": "OmrggYvmf9Sw",
    "outputId": "4c8e21d5-c00c-443a-f701-0e4693444321"
   },
   "outputs": [
    {
     "name": "stdout",
     "output_type": "stream",
     "text": [
      "[[0.26134159 0.68646976]]\n"
     ]
    }
   ],
   "source": [
    "x = x_train_bias\n",
    "y = y_train\n",
    "w_opt = (np.linalg.inv((x.T).dot(x)).dot(x.T)).dot(y)\n",
    "print(w_opt.T)"
   ]
  },
  {
   "cell_type": "markdown",
   "metadata": {
    "heading_collapsed": true,
    "id": "2eMOcW8Ff9Sz"
   },
   "source": [
    "# Exercícios"
   ]
  },
  {
   "cell_type": "markdown",
   "metadata": {
    "hidden": true,
    "id": "tCKeOB1-f9S1"
   },
   "source": [
    "## Questões"
   ]
  },
  {
   "cell_type": "markdown",
   "metadata": {
    "hidden": true,
    "id": "c-KyP13vf9S2"
   },
   "source": [
    "1. Quantos parâmetros são treinados nesse modelo?\n",
    "R.: 2 parâmetros (w0 e w1)\n",
    "\n",
    "2. Qual é o número de atributos de entrada para a rede?\n",
    "R.: 1,X.  Com Bias é 2\n",
    "\n",
    "3. Qual é o número de saídas da rede?\n",
    "R.: 1, Y\n",
    "\n",
    "4. Suponha que eu tenha agora 5 mil amostras para fazer a predição. Qual é o shape da matriz de entrada? R.: [5000,2]\n",
    "   Qual é o shape do matriz de saída? R.: [5000,1]\n"
   ]
  },
  {
   "cell_type": "markdown",
   "metadata": {
    "hidden": true,
    "id": "oaj0t2gpf9S3"
   },
   "source": [
    "## Atividades"
   ]
  },
  {
   "cell_type": "markdown",
   "metadata": {
    "hidden": true,
    "id": "pR_fNYurf9S3"
   },
   "source": [
    "1. Modifique o laço do treinamento via gradiente descendente para guardar em uma lista, o valor da perda no final\n",
    "   de cada época. Após o treinamento, plote o valor da perda em função da época.\n",
    "2. Calcule o valor da perda (MSE) da rede com os parâmetros inicializados, sem serem treinados.\n",
    "3. Coloque os valores dos pesos da solução ótima analítica no modelo da rede e calcule o valor da perda (MSE) e\n",
    "   compare com o valor da perda obtida pelo método da otimização via gradiente descendente."
   ]
  },
  {
   "cell_type": "code",
   "execution_count": 52,
   "metadata": {
    "id": "rSpMNa_qF_SU"
   },
   "outputs": [
    {
     "name": "stdout",
     "output_type": "stream",
     "text": [
      "Epoch[1/100], loss: 0.462213\n",
      "Epoch[2/100], loss: 0.056740\n",
      "Epoch[3/100], loss: 0.029661\n",
      "Epoch[4/100], loss: 0.027326\n",
      "Epoch[5/100], loss: 0.026657\n",
      "Epoch[6/100], loss: 0.026145\n",
      "Epoch[7/100], loss: 0.025687\n",
      "Epoch[8/100], loss: 0.025271\n",
      "Epoch[9/100], loss: 0.024893\n",
      "Epoch[10/100], loss: 0.024550\n",
      "Epoch[11/100], loss: 0.024239\n",
      "Epoch[12/100], loss: 0.023956\n",
      "Epoch[13/100], loss: 0.023699\n",
      "Epoch[14/100], loss: 0.023466\n",
      "Epoch[15/100], loss: 0.023255\n",
      "Epoch[16/100], loss: 0.023063\n",
      "Epoch[17/100], loss: 0.022888\n",
      "Epoch[18/100], loss: 0.022730\n",
      "Epoch[19/100], loss: 0.022586\n",
      "Epoch[20/100], loss: 0.022456\n",
      "Epoch[21/100], loss: 0.022337\n",
      "Epoch[22/100], loss: 0.022230\n",
      "Epoch[23/100], loss: 0.022132\n",
      "Epoch[24/100], loss: 0.022043\n",
      "Epoch[25/100], loss: 0.021963\n",
      "Epoch[26/100], loss: 0.021890\n",
      "Epoch[27/100], loss: 0.021824\n",
      "Epoch[28/100], loss: 0.021763\n",
      "Epoch[29/100], loss: 0.021709\n",
      "Epoch[30/100], loss: 0.021659\n",
      "Epoch[31/100], loss: 0.021614\n",
      "Epoch[32/100], loss: 0.021573\n",
      "Epoch[33/100], loss: 0.021536\n",
      "Epoch[34/100], loss: 0.021502\n",
      "Epoch[35/100], loss: 0.021471\n",
      "Epoch[36/100], loss: 0.021444\n",
      "Epoch[37/100], loss: 0.021418\n",
      "Epoch[38/100], loss: 0.021395\n",
      "Epoch[39/100], loss: 0.021375\n",
      "Epoch[40/100], loss: 0.021356\n",
      "Epoch[41/100], loss: 0.021339\n",
      "Epoch[42/100], loss: 0.021323\n",
      "Epoch[43/100], loss: 0.021309\n",
      "Epoch[44/100], loss: 0.021296\n",
      "Epoch[45/100], loss: 0.021284\n",
      "Epoch[46/100], loss: 0.021274\n",
      "Epoch[47/100], loss: 0.021264\n",
      "Epoch[48/100], loss: 0.021255\n",
      "Epoch[49/100], loss: 0.021247\n",
      "Epoch[50/100], loss: 0.021240\n",
      "Epoch[51/100], loss: 0.021234\n",
      "Epoch[52/100], loss: 0.021228\n",
      "Epoch[53/100], loss: 0.021222\n",
      "Epoch[54/100], loss: 0.021218\n",
      "Epoch[55/100], loss: 0.021213\n",
      "Epoch[56/100], loss: 0.021209\n",
      "Epoch[57/100], loss: 0.021205\n",
      "Epoch[58/100], loss: 0.021202\n",
      "Epoch[59/100], loss: 0.021199\n",
      "Epoch[60/100], loss: 0.021196\n",
      "Epoch[61/100], loss: 0.021194\n",
      "Epoch[62/100], loss: 0.021192\n",
      "Epoch[63/100], loss: 0.021190\n",
      "Epoch[64/100], loss: 0.021188\n",
      "Epoch[65/100], loss: 0.021186\n",
      "Epoch[66/100], loss: 0.021185\n",
      "Epoch[67/100], loss: 0.021183\n",
      "Epoch[68/100], loss: 0.021182\n",
      "Epoch[69/100], loss: 0.021181\n",
      "Epoch[70/100], loss: 0.021180\n",
      "Epoch[71/100], loss: 0.021179\n",
      "Epoch[72/100], loss: 0.021178\n",
      "Epoch[73/100], loss: 0.021177\n",
      "Epoch[74/100], loss: 0.021176\n",
      "Epoch[75/100], loss: 0.021176\n",
      "Epoch[76/100], loss: 0.021175\n",
      "Epoch[77/100], loss: 0.021175\n",
      "Epoch[78/100], loss: 0.021174\n",
      "Epoch[79/100], loss: 0.021174\n",
      "Epoch[80/100], loss: 0.021173\n",
      "Epoch[81/100], loss: 0.021173\n",
      "Epoch[82/100], loss: 0.021173\n",
      "Epoch[83/100], loss: 0.021172\n",
      "Epoch[84/100], loss: 0.021172\n",
      "Epoch[85/100], loss: 0.021172\n",
      "Epoch[86/100], loss: 0.021172\n",
      "Epoch[87/100], loss: 0.021171\n",
      "Epoch[88/100], loss: 0.021171\n",
      "Epoch[89/100], loss: 0.021171\n",
      "Epoch[90/100], loss: 0.021171\n",
      "Epoch[91/100], loss: 0.021171\n",
      "Epoch[92/100], loss: 0.021171\n",
      "Epoch[93/100], loss: 0.021171\n",
      "Epoch[94/100], loss: 0.021170\n",
      "Epoch[95/100], loss: 0.021170\n",
      "Epoch[96/100], loss: 0.021170\n",
      "Epoch[97/100], loss: 0.021170\n",
      "Epoch[98/100], loss: 0.021170\n",
      "Epoch[99/100], loss: 0.021170\n",
      "Epoch[100/100], loss: 0.021170\n"
     ]
    }
   ],
   "source": [
    "#1\n",
    "num_epochs = 100\n",
    "learning_rate = 0.5\n",
    "losses = []\n",
    "for epoch in range(num_epochs):\n",
    "\n",
    "    # forward - predict\n",
    "    y_pred = model.forward(x_train_bias)\n",
    "\n",
    "    #loss cálculo da função de perda\n",
    "    loss = np.square(y_pred - y_train).mean()\n",
    "\n",
    "    # cálculo do gradiente pelas derivadas parciais\n",
    "    w_grad = (2.0/n_samples) * (x_train_bias.T).dot(x_train_bias.dot(model.w.T) - y_train)\n",
    "\n",
    "    # gradiente descendente\n",
    "    model.w = model.w - learning_rate * w_grad.T\n",
    "\n",
    "    losses.append(loss)\n",
    "\n",
    "    # verbose\n",
    "    if (epoch+1) % 1 == 0:\n",
    "        print('Epoch[{}/{}], loss: {:.6f}'\n",
    "              .format(epoch+1, num_epochs, loss))"
   ]
  },
  {
   "cell_type": "code",
   "execution_count": 53,
   "metadata": {},
   "outputs": [
    {
     "data": {
      "image/png": "[encoded data removed]",
      "text/plain": [
       "<Figure size 640x480 with 1 Axes>"
      ]
     },
     "metadata": {},
     "output_type": "display_data"
    }
   ],
   "source": [
    "# plot da perda\n",
    "plt.plot(range(1, num_epochs + 1), losses)\n",
    "plt.xlabel('Época')\n",
    "plt.ylabel('Perda (Loss)')\n",
    "plt.title('Perda ao longo das épocas')\n",
    "plt.grid(True)\n",
    "plt.show()"
   ]
  },
  {
   "cell_type": "code",
   "execution_count": 51,
   "metadata": {
    "colab": {
     "base_uri": "https://localhost:8080/"
    },
    "id": "nRz1t1KLGdeX",
    "outputId": "3950aec6-b8a6-43e0-9731-230b04789d5a"
   },
   "outputs": [
    {
     "name": "stdout",
     "output_type": "stream",
     "text": [
      "0.46221280912878643\n",
      "Valor da Perda com os parâmetros não treinados: 0.462213\n"
     ]
    }
   ],
   "source": [
    "#2\n",
    "model = Net(2,1)\n",
    "y_pred = model.forward(x_train_bias)\n",
    "# print(y_pred)\n",
    "loss = np.square(y_pred - y_train).mean()\n",
    "print(loss)\n",
    "print(\"Valor da Perda com os parâmetros não treinados: {:.6f}\".format(loss))"
   ]
  },
  {
   "cell_type": "code",
   "execution_count": 58,
   "metadata": {
    "colab": {
     "base_uri": "https://localhost:8080/"
    },
    "id": "1PJ4IBpMHK5a",
    "outputId": "179e287c-1a80-444f-f329-e8c1fdfe14dc"
   },
   "outputs": [
    {
     "name": "stdout",
     "output_type": "stream",
     "text": [
      "Valores Gradiente:\n",
      " w: [[0.26330224 0.6826829 ]] | perda: 0.02117036871522354\n",
      "Valores Solução Ótima:\n",
      " w: [[0.26134159 0.68646976]] | perda: 0.021169424119097165\n"
     ]
    }
   ],
   "source": [
    "#3\n",
    "model = Net(2,1)\n",
    "num_epochs = 100\n",
    "learning_rate = 0.5\n",
    "for epoch in range(num_epochs):\n",
    "\n",
    "    # forward - predict\n",
    "    y_pred = model.forward(x_train_bias)\n",
    "\n",
    "    #loss cálculo da função de perda\n",
    "    loss = np.square(y_pred - y_train).mean()\n",
    "\n",
    "    # cálculo do gradiente pelas derivadas parciais\n",
    "    w_grad = (2.0/n_samples) * (x_train_bias.T).dot(x_train_bias.dot(model.w.T) - y_train)\n",
    "\n",
    "    # gradiente descendente\n",
    "    model.w = model.w - learning_rate * w_grad.T\n",
    "\n",
    "\n",
    "print(f\"Valores Gradiente:\\n w: {model.w} | perda: {loss}\")\n",
    "\n",
    "\n",
    "#Solução ótima\n",
    "x = x_train_bias\n",
    "y = y_train\n",
    "w_opt = (np.linalg.inv((x.T).dot(x)).dot(x.T)).dot(y)\n",
    "\n",
    "model.w = w_opt.T\n",
    "# forward - predict\n",
    "y_pred = model.forward(x_train_bias)\n",
    "\n",
    "#loss cálculo da função de perda\n",
    "loss = np.square(y_pred - y_train).mean()\n",
    "\n",
    "print(f\"Valores Solução Ótima:\\n w: {model.w} | perda: {loss}\")\n",
    "\n"
   ]
  },
  {
   "cell_type": "markdown",
   "metadata": {
    "collapsed": true,
    "id": "tgmMhSm2f9S4"
   },
   "source": [
    "# Aprendizados"
   ]
  }
 ],
 "metadata": {
  "accelerator": "TPU",
  "colab": {
   "gpuType": "V28",
   "name": "2.2-LinearRegressionIrisNumPy.ipynb",
   "provenance": []
  },
  "kernelspec": {
   "display_name": "Python 3 (ipykernel)",
   "language": "python",
   "name": "python3"
  },
  "language_info": {
   "codemirror_mode": {
    "name": "ipython",
    "version": 3
   },
   "file_extension": ".py",
   "mimetype": "text/x-python",
   "name": "python",
   "nbconvert_exporter": "python",
   "pygments_lexer": "ipython3",
   "version": "3.12.2"
  },
  "vscode": {
   "interpreter": {
    "hash": "5fe3e6f0cdaab8afdc61c52912fda83f7c0a71baaea1897dd7498e2df01e69ec"
   }
  }
 },
 "nbformat": 4,
 "nbformat_minor": 1
}
